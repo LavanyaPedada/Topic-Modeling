{
 "cells": [
  {
   "cell_type": "markdown",
   "metadata": {
    "collapsed": true
   },
   "source": [
    "UnZip Files from a location"
   ]
  },
  {
   "cell_type": "code",
   "execution_count": 1,
   "metadata": {
    "collapsed": false
   },
   "outputs": [],
   "source": [
    "import os,zipfile\n",
    "dir_name = '/data1/call_miner/Vinyas_Call_miner/call_miner'\n",
    "os.chdir(dir_name)\n",
    "zip_ref = zipfile.ZipFile('Vail_CDR_Transcripts_Feb18.zip') # create zipfile object\n",
    "zip_ref.extractall('/data1/call_miner/Vinyas_Call_miner/call_miner/Feb_Unzipped') # extract file to dir\n",
    "        #zip_ref.close() # close file"
   ]
  },
  {
   "cell_type": "markdown",
   "metadata": {},
   "source": [
    "Extract nested zipped files "
   ]
  },
  {
   "cell_type": "code",
   "execution_count": 2,
   "metadata": {
    "collapsed": true
   },
   "outputs": [],
   "source": [
    "import os,zipfile\n",
    "dir_name = '/data1/call_miner/Vinyas_Call_miner/call_miner/Feb_Unzipped'\n",
    "extension = \".zip\"\n",
    "\n",
    "os.chdir(dir_name) # change directory from working dir to dir with files\n",
    "\n",
    "for item in os.listdir(dir_name): # loop through items in dir\n",
    "    if item.endswith(extension): # check for \".zip\" extension\n",
    "        file_name = os.path.abspath(item) # get full path of files\n",
    "        zip_ref = zipfile.ZipFile(file_name) # create zipfile object\n",
    "        zip_ref.extractall('/data1/call_miner/Vinyas_Call_miner/call_miner/Feb_xml_unzipped') #"
   ]
  },
  {
   "cell_type": "markdown",
   "metadata": {},
   "source": [
    "Apply fix to xml"
   ]
  },
  {
   "cell_type": "code",
   "execution_count": 3,
   "metadata": {
    "collapsed": false
   },
   "outputs": [],
   "source": [
    "#os.chdir(\"/data1/call_miner/Vinyas_Call_miner/call_miner/Feb_xml_unzipped\")\n",
    "import os, fnmatch\n",
    "def findReplace(directory, find, replace, filePattern):\n",
    "    for path, dirs, files in os.walk(os.path.abspath(directory)):\n",
    "        for filename in fnmatch.filter(files, filePattern):\n",
    "            filepath = os.path.join(path, filename)\n",
    "            with open(filepath) as f:\n",
    "                s = f.read()\n",
    "            s = s.replace(find, replace)\n",
    "            with open(filepath, \"w\") as f:\n",
    "                f.write(s)\n",
    "\n",
    "findReplace(\"/data1/call_miner/Vinyas_Call_miner/call_miner/Feb_xml_unzipped\", \"</segment>\\n<transcript>\", \"</segment>\\n</transcript>\", \"*.xml\")                \n",
    "                "
   ]
  },
  {
   "cell_type": "markdown",
   "metadata": {},
   "source": [
    "Extract Relavent Text from the XML"
   ]
  },
  {
   "cell_type": "code",
   "execution_count": 19,
   "metadata": {
    "collapsed": false
   },
   "outputs": [],
   "source": [
    "#Extract both Customer and Agent channel data\n",
    "\n",
    "import unicodecsv as csv\n",
    "import xml.etree.ElementTree as ET\n",
    "import glob, os\n",
    "import io\n",
    "\n",
    "# Set the working directory\n",
    "os.chdir(\"/data1/call_miner/Vinyas_Call_miner/call_miner/Feb_xml_unzipped\")\n",
    "for filename in glob.glob('*.xml'):\n",
    "                 tree = ET.parse(filename,ET.XMLParser(encoding='Latin1'))\n",
    "                 root=tree.getroot()\n",
    "                 eureka_id=root.find('eureka_id').text\n",
    "                 with open(\"/data1/call_miner/Vinyas_Call_miner/call_miner/Feb_Text_data/file_\"+eureka_id+\".txt\",\"w\") as f:\n",
    "                        csvwriter = csv.writer(f)\n",
    "                        for time in root.findall('segment'):\n",
    "                            row=[]\n",
    "                            task_name = time.find('words').text\n",
    "                            row.append(task_name)\n",
    "                            csvwriter.writerow(row)\n",
    "                            \n",
    "f.close()"
   ]
  },
  {
   "cell_type": "code",
   "execution_count": 4,
   "metadata": {
    "collapsed": true
   },
   "outputs": [],
   "source": [
    "#Extract only Customer channel data\n",
    "\n",
    "import unicodecsv as csv\n",
    "import xml.etree.ElementTree as ET\n",
    "import glob, os\n",
    "import io\n",
    "\n",
    "# Set the working directory\n",
    "os.chdir(\"/data1/call_miner/Vinyas_Call_miner/call_miner/Feb_xml_unzipped\")\n",
    "for filename in glob.glob('*.xml'):\n",
    "                 tree = ET.parse(filename,ET.XMLParser(encoding='Latin1'))\n",
    "                 root=tree.getroot()\n",
    "                 eureka_id=root.find('eureka_id').text\n",
    "                 with open(\"/data1/call_miner/Vinyas_Call_miner/call_miner/Feb_Cust_words/file_\"+eureka_id+\".txt\",\"w\") as f:\n",
    "                        csvwriter = csv.writer(f)\n",
    "                        for time in root.findall('segment'):\n",
    "                            row=[]\n",
    "                            if time.find('speaker').text=='Customer':\n",
    "                                task_name = time.find('words').text\n",
    "                                row.append(task_name)\n",
    "                                csvwriter.writerow(row)\n",
    "                            \n",
    "f.close()"
   ]
  },
  {
   "cell_type": "code",
   "execution_count": 5,
   "metadata": {
    "collapsed": false
   },
   "outputs": [],
   "source": [
    "#Extract only Agent channel data\n",
    "\n",
    "import unicodecsv as csv\n",
    "import xml.etree.ElementTree as ET\n",
    "import glob, os\n",
    "import io\n",
    "\n",
    "# Set the working directory\n",
    "os.chdir(\"/data1/call_miner/Vinyas_Call_miner/call_miner/Feb_xml_unzipped\")\n",
    "for filename in glob.glob('*.xml'):\n",
    "                 tree = ET.parse(filename,ET.XMLParser(encoding='Latin1'))\n",
    "                 root=tree.getroot()\n",
    "                 eureka_id=root.find('eureka_id').text\n",
    "                 with open(\"/data1/call_miner/Vinyas_Call_miner/call_miner/Feb_Cust_words/file_\"+eureka_id+\".txt\",\"w\") as f:\n",
    "                        csvwriter = csv.writer(f)\n",
    "                        for time in root.findall('segment'):\n",
    "                            row=[]\n",
    "                            if time.find('speaker').text=='Agent':\n",
    "                                task_name = time.find('words').text\n",
    "                                row.append(task_name)\n",
    "                                csvwriter.writerow(row)\n",
    "                            \n",
    "f.close()"
   ]
  },
  {
   "cell_type": "code",
   "execution_count": 7,
   "metadata": {
    "collapsed": false
   },
   "outputs": [],
   "source": [
    "pyLDAvis.enable_notebook()"
   ]
  },
  {
   "cell_type": "code",
   "execution_count": 3,
   "metadata": {
    "collapsed": false
   },
   "outputs": [],
   "source": [
    "import gensim"
   ]
  },
  {
   "cell_type": "code",
   "execution_count": 2,
   "metadata": {
    "collapsed": false
   },
   "outputs": [
    {
     "name": "stderr",
     "output_type": "stream",
     "text": [
      "/data1/ANACONDA/Anaconda2.7/lib/python2.7/site-packages/numpy/lib/utils.py:99: DeprecationWarning: `scipy.sparse.sparsetools` is deprecated!\n",
      "scipy.sparse.sparsetools is a private module for scipy.sparse, and should not be used.\n",
      "  warnings.warn(depdoc, DeprecationWarning)\n"
     ]
    }
   ],
   "source": [
    "from gensim import corpora, models, similarities"
   ]
  },
  {
   "cell_type": "code",
   "execution_count": 1,
   "metadata": {
    "collapsed": false
   },
   "outputs": [],
   "source": [
    "import pyLDAvis.gensim as gensimvis\n"
   ]
  },
  {
   "cell_type": "code",
   "execution_count": 9,
   "metadata": {
    "collapsed": true
   },
   "outputs": [],
   "source": [
    "import pyLDAvis.sklearn"
   ]
  },
  {
   "cell_type": "code",
   "execution_count": null,
   "metadata": {
    "collapsed": true
   },
   "outputs": [],
   "source": []
  }
 ],
 "metadata": {
  "kernelspec": {
   "display_name": "Python 2",
   "language": "python",
   "name": "python2"
  },
  "language_info": {
   "codemirror_mode": {
    "name": "ipython",
    "version": 2
   },
   "file_extension": ".py",
   "mimetype": "text/x-python",
   "name": "python",
   "nbconvert_exporter": "python",
   "pygments_lexer": "ipython2",
   "version": "2.7.13"
  }
 },
 "nbformat": 4,
 "nbformat_minor": 2
}

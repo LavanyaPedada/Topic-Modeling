{
 "cells": [
  {
   "cell_type": "code",
   "execution_count": 1,
   "metadata": {
    "collapsed": true
   },
   "outputs": [],
   "source": [
    "import pandas"
   ]
  },
  {
   "cell_type": "code",
   "execution_count": 1,
   "metadata": {
    "collapsed": false
   },
   "outputs": [
    {
     "name": "stdout",
     "output_type": "stream",
     "text": [
      "xlwt 1.2.0\n",
      "XlsxWriter 0.9.6\n",
      "xlrd 1.0.0\n",
      "wrapt 1.10.8\n",
      "widgetsnbextension 1.2.6\n",
      "Whoosh 2.7.4\n",
      "wheel 0.29.0\n",
      "Werkzeug 0.11.15\n",
      "wcwidth 0.1.7\n",
      "unicodecsv 0.14.1\n",
      "traitlets 4.3.1\n",
      "tornado 4.4.2\n",
      "toolz 0.8.2\n",
      "terminado 0.6\n",
      "termcolor 1.1.0\n",
      "tensorflow 0.5.0\n",
      "tables 3.3.0\n",
      "sympy 1.0\n",
      "subprocess32 3.2.7\n",
      "statsmodels 0.6.1\n",
      "sqlparse 0.2.3\n",
      "SQLAlchemy 1.1.5\n",
      "spyder 3.1.2\n",
      "sockjs-tornado 1.0.3\n",
      "snowballstemmer 1.2.1\n",
      "six 1.10.0\n",
      "singledispatch 3.4.0.3\n",
      "simplegeneric 0.8.1\n",
      "seaborn 0.7.1\n",
      "scipy 0.18.1\n",
      "scikit-learn 0.19.1\n",
      "scikit-image 0.12.3\n",
      "scandir 1.4\n",
      "rope 0.9.4\n",
      "requests 2.12.4\n",
      "redis 2.10.5\n",
      "QtPy 1.2.1\n",
      "qtconsole 4.2.1\n",
      "QtAwesome 0.4.3\n",
      "pyzmq 16.0.2\n",
      "PyYAML 3.12\n",
      "pytz 2016.10\n",
      "python-openid 2.2.5\n",
      "python-dateutil 2.6.0\n",
      "pytest 3.0.5\n",
      "pyparsing 2.1.4\n",
      "pyOpenSSL 16.2.0\n",
      "pylint 1.6.4\n",
      "Pygments 2.1.3\n",
      "pyflakes 1.5.0\n",
      "pycurl 7.43.0\n",
      "pycrypto 2.6.1\n",
      "pycparser 2.17\n",
      "pycosat 0.6.1\n",
      "pycairo 1.10.0\n",
      "pyasn1 0.1.9\n",
      "py 1.4.32\n",
      "ptyprocess 0.5.1\n",
      "psycopg2 2.6\n",
      "psutil 5.0.1\n",
      "prompt-toolkit 1.0.9\n",
      "ply 3.9\n",
      "pip 9.0.1\n",
      "Pillow 4.0.0\n",
      "pickleshare 0.7.4\n",
      "pexpect 4.2.1\n",
      "pep8 1.7.0\n",
      "pbr 3.0.1\n",
      "patsy 0.4.1\n",
      "pathlib2 2.2.0\n",
      "pathlib 1.0.1\n",
      "partd 0.3.7\n",
      "pandas 0.19.2\n",
      "openpyxl 2.4.1\n",
      "olefile 0.43\n",
      "odo 0.5.0\n",
      "numpydoc 0.6.0\n",
      "numpy 1.11.3\n",
      "numexpr 2.6.1\n",
      "numba 0.30.1+0.g8c1033f.dirty\n",
      "notebook 4.3.1\n",
      "nose 1.3.7\n",
      "nltk 3.2.2\n",
      "networkx 1.11\n",
      "nbformat 4.2.0\n",
      "nbconvert 4.2.0\n",
      "multipledispatch 0.4.9\n",
      "mpmath 0.19\n",
      "mistune 0.7.3\n",
      "matplotlib 2.0.0\n",
      "MarkupSafe 0.23\n",
      "lxml 3.7.2\n",
      "locket 0.2.0\n",
      "llvmlite 0.15.0\n",
      "lazy-object-proxy 1.2.2\n",
      "jupyter 1.0.0\n",
      "jupyter-core 4.2.1\n",
      "jupyter-console 5.0.0\n",
      "jupyter-client 4.4.0\n",
      "jsonschema 2.5.1\n",
      "joblib 0.11\n",
      "Jinja2 2.9.4\n",
      "jedi 0.9.0\n",
      "jdcal 1.3\n",
      "itsdangerous 0.24\n",
      "isort 4.2.5\n",
      "ipywidgets 5.2.2\n",
      "ipython 5.1.0\n",
      "ipython-genutils 0.1.0\n",
      "ipykernel 4.5.2\n",
      "ipaddress 1.0.18\n",
      "imagesize 0.7.1\n",
      "idna 2.2\n",
      "HeapDict 1.0.0\n",
      "h5py 2.6.0\n",
      "guidedlda 2.0.0.dev22\n",
      "grin 1.2.1\n",
      "greenlet 0.4.11\n",
      "gevent 1.2.1\n",
      "futures 3.0.5\n",
      "functools32 3.2.3.post2\n",
      "funcsigs 1.0.2\n",
      "Flask 0.12\n",
      "Flask-Cors 3.0.2\n",
      "filelock 3.0.4\n",
      "fastcache 1.0.2\n",
      "et-xmlfile 1.0.1\n",
      "enum34 1.1.6\n",
      "docutils 0.13.1\n",
      "dill 0.2.5\n",
      "decorator 4.0.11\n",
      "deap 1.0.2\n",
      "datashape 0.5.4\n",
      "dask 0.13.0\n",
      "cytoolz 0.8.2\n",
      "Cython 0.25.2\n",
      "cymem 1.30\n",
      "cycler 0.10.0\n",
      "cryptography 1.7.1\n",
      "contextlib2 0.5.4\n",
      "configparser 3.5.0\n",
      "configobj 5.0.6\n",
      "conda 4.3.8\n",
      "clyent 1.2.2\n",
      "cloudpickle 0.2.2\n",
      "click 6.7\n",
      "chest 0.2.3\n",
      "chardet 2.3.0\n",
      "cffi 1.9.1\n",
      "cdecimal 2.3\n",
      "catboost 0.9\n",
      "bz2file 0.98\n",
      "Bottleneck 1.2.0\n",
      "boto 2.45.0\n",
      "bokeh 0.12.4\n",
      "blaze 0.10.1\n",
      "bitarray 0.8.1\n",
      "beautifulsoup4 4.5.3\n",
      "backports.ssl-match-hostname 3.4.0.2\n",
      "backports.shutil-get-terminal-size 1.0.0\n",
      "backports-abc 0.5\n",
      "Babel 2.3.4\n",
      "astropy 1.3\n",
      "astroid 1.4.9\n",
      "argcomplete 1.0.0\n",
      "anaconda-navigator 1.4.3\n",
      "anaconda-client 1.6.0\n",
      "alabaster 0.7.9\n",
      "Sphinx 1.5.1\n",
      "Flask-Babel 0.11.1\n",
      "Flask-Bootstrap 3.3.7.1\n",
      "Flask-HTTPAuth 3.2.2\n",
      "Flask-Login 0.3.2\n",
      "Flask-Mail 0.9.1\n",
      "Flask-Migrate 2.0.3\n",
      "Flask-Moment 0.5.1\n",
      "Flask-OpenID 1.2.5\n",
      "Flask-PageDown 0.2.2\n",
      "Flask-Script 2.0.5\n",
      "Flask-SSLify 0.1.5\n",
      "Flask-WhooshAlchemy 0.56\n",
      "alembic 0.9.1\n",
      "WTForms 2.1\n",
      "Flask-WTF 0.14.2\n",
      "Flask-SQLAlchemy 2.2\n",
      "cx-Oracle 6.0b2\n",
      "blinker 1.4\n",
      "dominate 2.3.1\n",
      "Mako 1.0.6\n",
      "python-editor 1.0.3\n",
      "Tempita 0.5.2\n",
      "visitor 0.1.3\n",
      "pandasql 0.7.3\n",
      "plotly 2.0.15\n",
      "lime 0.1.1.29\n",
      "gensim 3.4.0\n",
      "pyLDAvis 2.1.1\n",
      "smart-open 1.5.7\n",
      "future 0.16.0\n",
      "boto3 1.7.6\n",
      "s3transfer 0.1.13\n",
      "botocore 1.10.6\n",
      "jmespath 0.9.3\n",
      "funcy 1.10.1\n",
      "spacy 2.0.11\n",
      "regex 2017.4.5\n",
      "ujson 1.35\n",
      "plac 0.9.6\n",
      "thinc 6.10.1\n",
      "msgpack-numpy 0.4.3\n",
      "msgpack 0.5.0\n",
      "msgpack-python 0.5.0\n",
      "tqdm 4.10.0\n",
      "preshed 1.0.0\n",
      "murmurhash 0.28.0\n",
      "wordnet 0.0.1b2\n",
      "tabulate 0.8.2\n",
      "certifi 2017.4.17\n",
      "urllib3 1.22\n",
      "h2o 3.18.0.8\n",
      "Pattern 2.6\n",
      "textblob 0.15.1\n",
      "colorama 0.3.9\n",
      "Keras-Preprocessing 1.0.1\n",
      "Keras-Applications 1.0.2\n",
      "sklearn 0.0\n",
      "Keras 2.1.2\n",
      "imbalanced-learn 0.3.3\n",
      "costcla 0.4\n",
      "pyea 0.1\n",
      "protobuf 3.4.0\n",
      "setuptools 27.2.0\n",
      "kmeans-smote 0.0.2\n",
      "scattertext 0.0.2.28\n",
      "lda2vec 0.11.14\n",
      "chainer 4.3.0\n"
     ]
    }
   ],
   "source": [
    "import pip #needed to use the pip functions\n",
    "for i in pip.get_installed_distributions(local_only=True):\n",
    "    print(i)"
   ]
  },
  {
   "cell_type": "code",
   "execution_count": 2,
   "metadata": {
    "collapsed": true
   },
   "outputs": [],
   "source": [
    "import scattertext as st"
   ]
  },
  {
   "cell_type": "code",
   "execution_count": 2,
   "metadata": {
    "collapsed": false
   },
   "outputs": [
    {
     "ename": "ImportError",
     "evalue": "No module named lda2vec",
     "output_type": "error",
     "traceback": [
      "\u001b[0;31m---------------------------------------------------------------------------\u001b[0m",
      "\u001b[0;31mImportError\u001b[0m                               Traceback (most recent call last)",
      "\u001b[0;32m<ipython-input-2-54fd50392813>\u001b[0m in \u001b[0;36m<module>\u001b[0;34m()\u001b[0m\n\u001b[0;32m----> 1\u001b[0;31m \u001b[0;32mfrom\u001b[0m \u001b[0mlda2vec\u001b[0m \u001b[0;32mimport\u001b[0m \u001b[0mpreprocess\u001b[0m\u001b[0;34m,\u001b[0m \u001b[0mCorpus\u001b[0m\u001b[0;34m\u001b[0m\u001b[0m\n\u001b[0m",
      "\u001b[0;31mImportError\u001b[0m: No module named lda2vec"
     ]
    }
   ],
   "source": [
    "from lda2vec import preprocess, Corpus\n"
   ]
  },
  {
   "cell_type": "code",
   "execution_count": 4,
   "metadata": {
    "collapsed": false
   },
   "outputs": [
    {
     "ename": "ImportError",
     "evalue": "No module named lda2vec",
     "output_type": "error",
     "traceback": [
      "\u001b[0;31m---------------------------------------------------------------------------\u001b[0m",
      "\u001b[0;31mImportError\u001b[0m                               Traceback (most recent call last)",
      "\u001b[0;32m<ipython-input-4-54fd50392813>\u001b[0m in \u001b[0;36m<module>\u001b[0;34m()\u001b[0m\n\u001b[0;32m----> 1\u001b[0;31m \u001b[0;32mfrom\u001b[0m \u001b[0mlda2vec\u001b[0m \u001b[0;32mimport\u001b[0m \u001b[0mpreprocess\u001b[0m\u001b[0;34m,\u001b[0m \u001b[0mCorpus\u001b[0m\u001b[0;34m\u001b[0m\u001b[0m\n\u001b[0m",
      "\u001b[0;31mImportError\u001b[0m: No module named lda2vec"
     ]
    }
   ],
   "source": [
    "from lda2vec import preprocess, Corpus"
   ]
  },
  {
   "cell_type": "code",
   "execution_count": 1,
   "metadata": {
    "collapsed": false
   },
   "outputs": [
    {
     "ename": "ImportError",
     "evalue": "No module named hdfs",
     "output_type": "error",
     "traceback": [
      "\u001b[0;31m---------------------------------------------------------------------------\u001b[0m",
      "\u001b[0;31mImportError\u001b[0m                               Traceback (most recent call last)",
      "\u001b[0;32m<ipython-input-1-b334f9acead5>\u001b[0m in \u001b[0;36m<module>\u001b[0;34m()\u001b[0m\n\u001b[0;32m----> 1\u001b[0;31m \u001b[0;32mfrom\u001b[0m \u001b[0mhdfs\u001b[0m \u001b[0;32mimport\u001b[0m \u001b[0mInsecureClient\u001b[0m\u001b[0;34m\u001b[0m\u001b[0m\n\u001b[0m",
      "\u001b[0;31mImportError\u001b[0m: No module named hdfs"
     ]
    }
   ],
   "source": [
    "from hdfs import InsecureClient"
   ]
  },
  {
   "cell_type": "code",
   "execution_count": null,
   "metadata": {
    "collapsed": true
   },
   "outputs": [],
   "source": []
  }
 ],
 "metadata": {
  "kernelspec": {
   "display_name": "Python 2",
   "language": "python",
   "name": "python2"
  },
  "language_info": {
   "codemirror_mode": {
    "name": "ipython",
    "version": 2
   },
   "file_extension": ".py",
   "mimetype": "text/x-python",
   "name": "python",
   "nbconvert_exporter": "python",
   "pygments_lexer": "ipython2",
   "version": "2.7.13"
  }
 },
 "nbformat": 4,
 "nbformat_minor": 2
}

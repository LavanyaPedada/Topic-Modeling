{
 "cells": [
  {
   "cell_type": "code",
   "execution_count": 6,
   "metadata": {
    "collapsed": false
   },
   "outputs": [
    {
     "ename": "KeyboardInterrupt",
     "evalue": "",
     "output_type": "error",
     "traceback": [
      "\u001b[0;31m---------------------------------------------------------------------------\u001b[0m",
      "\u001b[0;31mKeyboardInterrupt\u001b[0m                         Traceback (most recent call last)",
      "\u001b[0;32m<ipython-input-6-6f672c91bf5e>\u001b[0m in \u001b[0;36m<module>\u001b[0;34m()\u001b[0m\n\u001b[1;32m     15\u001b[0m \u001b[0;34m\u001b[0m\u001b[0m\n\u001b[1;32m     16\u001b[0m \u001b[0;32mfor\u001b[0m \u001b[0mf\u001b[0m \u001b[0;32min\u001b[0m \u001b[0mdata_list\u001b[0m\u001b[0;34m:\u001b[0m\u001b[0;34m\u001b[0m\u001b[0m\n\u001b[0;32m---> 17\u001b[0;31m     \u001b[0;32mfor\u001b[0m \u001b[0mfilename\u001b[0m \u001b[0;32min\u001b[0m \u001b[0mglob\u001b[0m\u001b[0;34m.\u001b[0m\u001b[0mglob\u001b[0m\u001b[0;34m(\u001b[0m\u001b[0;34m'*.txt'\u001b[0m\u001b[0;34m)\u001b[0m\u001b[0;34m:\u001b[0m\u001b[0;34m\u001b[0m\u001b[0m\n\u001b[0m\u001b[1;32m     18\u001b[0m         \u001b[0;31m#print \"i value is\",i\u001b[0m\u001b[0;34m\u001b[0m\u001b[0;34m\u001b[0m\u001b[0m\n\u001b[1;32m     19\u001b[0m         \u001b[0;31m#print \"file name is\",filename\u001b[0m\u001b[0;34m\u001b[0m\u001b[0;34m\u001b[0m\u001b[0m\n",
      "\u001b[0;32m/data1/ANACONDA/Anaconda2.7/lib/python2.7/glob.pyc\u001b[0m in \u001b[0;36mglob\u001b[0;34m(pathname)\u001b[0m\n\u001b[1;32m     25\u001b[0m \u001b[0;34m\u001b[0m\u001b[0m\n\u001b[1;32m     26\u001b[0m     \"\"\"\n\u001b[0;32m---> 27\u001b[0;31m     \u001b[0;32mreturn\u001b[0m \u001b[0mlist\u001b[0m\u001b[0;34m(\u001b[0m\u001b[0miglob\u001b[0m\u001b[0;34m(\u001b[0m\u001b[0mpathname\u001b[0m\u001b[0;34m)\u001b[0m\u001b[0;34m)\u001b[0m\u001b[0;34m\u001b[0m\u001b[0m\n\u001b[0m\u001b[1;32m     28\u001b[0m \u001b[0;34m\u001b[0m\u001b[0m\n\u001b[1;32m     29\u001b[0m \u001b[0;32mdef\u001b[0m \u001b[0miglob\u001b[0m\u001b[0;34m(\u001b[0m\u001b[0mpathname\u001b[0m\u001b[0;34m)\u001b[0m\u001b[0;34m:\u001b[0m\u001b[0;34m\u001b[0m\u001b[0m\n",
      "\u001b[0;32m/data1/ANACONDA/Anaconda2.7/lib/python2.7/glob.pyc\u001b[0m in \u001b[0;36miglob\u001b[0;34m(pathname)\u001b[0m\n\u001b[1;32m     47\u001b[0m         \u001b[0;32mreturn\u001b[0m\u001b[0;34m\u001b[0m\u001b[0m\n\u001b[1;32m     48\u001b[0m     \u001b[0;32mif\u001b[0m \u001b[0;32mnot\u001b[0m \u001b[0mdirname\u001b[0m\u001b[0;34m:\u001b[0m\u001b[0;34m\u001b[0m\u001b[0m\n\u001b[0;32m---> 49\u001b[0;31m         \u001b[0;32mfor\u001b[0m \u001b[0mname\u001b[0m \u001b[0;32min\u001b[0m \u001b[0mglob1\u001b[0m\u001b[0;34m(\u001b[0m\u001b[0mos\u001b[0m\u001b[0;34m.\u001b[0m\u001b[0mcurdir\u001b[0m\u001b[0;34m,\u001b[0m \u001b[0mbasename\u001b[0m\u001b[0;34m)\u001b[0m\u001b[0;34m:\u001b[0m\u001b[0;34m\u001b[0m\u001b[0m\n\u001b[0m\u001b[1;32m     50\u001b[0m             \u001b[0;32myield\u001b[0m \u001b[0mname\u001b[0m\u001b[0;34m\u001b[0m\u001b[0m\n\u001b[1;32m     51\u001b[0m         \u001b[0;32mreturn\u001b[0m\u001b[0;34m\u001b[0m\u001b[0m\n",
      "\u001b[0;32m/data1/ANACONDA/Anaconda2.7/lib/python2.7/glob.pyc\u001b[0m in \u001b[0;36mglob1\u001b[0;34m(dirname, pattern)\u001b[0m\n\u001b[1;32m     80\u001b[0m         \u001b[0;32mreturn\u001b[0m \u001b[0;34m[\u001b[0m\u001b[0;34m]\u001b[0m\u001b[0;34m\u001b[0m\u001b[0m\n\u001b[1;32m     81\u001b[0m     \u001b[0;32mif\u001b[0m \u001b[0mpattern\u001b[0m\u001b[0;34m[\u001b[0m\u001b[0;36m0\u001b[0m\u001b[0;34m]\u001b[0m \u001b[0;34m!=\u001b[0m \u001b[0;34m'.'\u001b[0m\u001b[0;34m:\u001b[0m\u001b[0;34m\u001b[0m\u001b[0m\n\u001b[0;32m---> 82\u001b[0;31m         \u001b[0mnames\u001b[0m \u001b[0;34m=\u001b[0m \u001b[0mfilter\u001b[0m\u001b[0;34m(\u001b[0m\u001b[0;32mlambda\u001b[0m \u001b[0mx\u001b[0m\u001b[0;34m:\u001b[0m \u001b[0mx\u001b[0m\u001b[0;34m[\u001b[0m\u001b[0;36m0\u001b[0m\u001b[0;34m]\u001b[0m \u001b[0;34m!=\u001b[0m \u001b[0;34m'.'\u001b[0m\u001b[0;34m,\u001b[0m \u001b[0mnames\u001b[0m\u001b[0;34m)\u001b[0m\u001b[0;34m\u001b[0m\u001b[0m\n\u001b[0m\u001b[1;32m     83\u001b[0m     \u001b[0;32mreturn\u001b[0m \u001b[0mfnmatch\u001b[0m\u001b[0;34m.\u001b[0m\u001b[0mfilter\u001b[0m\u001b[0;34m(\u001b[0m\u001b[0mnames\u001b[0m\u001b[0;34m,\u001b[0m \u001b[0mpattern\u001b[0m\u001b[0;34m)\u001b[0m\u001b[0;34m\u001b[0m\u001b[0m\n\u001b[1;32m     84\u001b[0m \u001b[0;34m\u001b[0m\u001b[0m\n",
      "\u001b[0;32m/data1/ANACONDA/Anaconda2.7/lib/python2.7/glob.pyc\u001b[0m in \u001b[0;36m<lambda>\u001b[0;34m(x)\u001b[0m\n\u001b[1;32m     80\u001b[0m         \u001b[0;32mreturn\u001b[0m \u001b[0;34m[\u001b[0m\u001b[0;34m]\u001b[0m\u001b[0;34m\u001b[0m\u001b[0m\n\u001b[1;32m     81\u001b[0m     \u001b[0;32mif\u001b[0m \u001b[0mpattern\u001b[0m\u001b[0;34m[\u001b[0m\u001b[0;36m0\u001b[0m\u001b[0;34m]\u001b[0m \u001b[0;34m!=\u001b[0m \u001b[0;34m'.'\u001b[0m\u001b[0;34m:\u001b[0m\u001b[0;34m\u001b[0m\u001b[0m\n\u001b[0;32m---> 82\u001b[0;31m         \u001b[0mnames\u001b[0m \u001b[0;34m=\u001b[0m \u001b[0mfilter\u001b[0m\u001b[0;34m(\u001b[0m\u001b[0;32mlambda\u001b[0m \u001b[0mx\u001b[0m\u001b[0;34m:\u001b[0m \u001b[0mx\u001b[0m\u001b[0;34m[\u001b[0m\u001b[0;36m0\u001b[0m\u001b[0;34m]\u001b[0m \u001b[0;34m!=\u001b[0m \u001b[0;34m'.'\u001b[0m\u001b[0;34m,\u001b[0m \u001b[0mnames\u001b[0m\u001b[0;34m)\u001b[0m\u001b[0;34m\u001b[0m\u001b[0m\n\u001b[0m\u001b[1;32m     83\u001b[0m     \u001b[0;32mreturn\u001b[0m \u001b[0mfnmatch\u001b[0m\u001b[0;34m.\u001b[0m\u001b[0mfilter\u001b[0m\u001b[0;34m(\u001b[0m\u001b[0mnames\u001b[0m\u001b[0;34m,\u001b[0m \u001b[0mpattern\u001b[0m\u001b[0;34m)\u001b[0m\u001b[0;34m\u001b[0m\u001b[0m\n\u001b[1;32m     84\u001b[0m \u001b[0;34m\u001b[0m\u001b[0m\n",
      "\u001b[0;31mKeyboardInterrupt\u001b[0m: "
     ]
    }
   ],
   "source": [
    "import unicodecsv as csv\n",
    "import glob, os\n",
    "import io\n",
    "from shutil import copyfile\n",
    "import shutil\n",
    "\n",
    "# Set the working directory\n",
    "os.chdir(\"/data1/call_miner/Vinyas_Call_miner/call_miner/May_text_data\")\n",
    "filepath=''\n",
    "# Open the csv file which has the list of call/eureka ids i.e. filenames that we wish to read and process\n",
    "with open (\"/data1/call_miner/Vinyas_Call_miner/call_miner/May_Eureka_Id_v02.csv\") as f2:\n",
    "    reader=csv.reader(f2)\n",
    "    data_list=list(reader)\n",
    "f2.close()    \n",
    "    \n",
    "for f in data_list:\n",
    "    for filename in glob.glob('*.txt'):\n",
    "        #print \"i value is\",i\n",
    "        #print \"file name is\",filename\n",
    "        if filename in f:\n",
    "            #print \"copying\",filename\n",
    "            shutil.copy(filename,\"/data1/call_miner/Vinyas_Call_miner/call_miner/May_CM_Tagged\")\n",
    "    else:\n",
    "            shutil.copy(filename,\"/data1/call_miner/Vinyas_Call_miner/call_miner/May_CM_untagged\")\n",
    "            \n",
    "            #print \"moved\""
   ]
  },
  {
   "cell_type": "code",
   "execution_count": 8,
   "metadata": {
    "collapsed": true
   },
   "outputs": [],
   "source": [
    "with open (\"/data1/call_miner/Vinyas_Call_miner/call_miner/Lavanya/May_Tableau_Eureka_Id_May17-31.csv\") as f2:\n",
    "    reader=csv.reader(f2)\n",
    "    data02=list(reader)\n",
    "f2.close()"
   ]
  },
  {
   "cell_type": "code",
   "execution_count": 9,
   "metadata": {
    "collapsed": true
   },
   "outputs": [],
   "source": [
    "data03=data01+data02"
   ]
  },
  {
   "cell_type": "code",
   "execution_count": 13,
   "metadata": {
    "collapsed": false
   },
   "outputs": [
    {
     "data": {
      "text/plain": [
       "1054717"
      ]
     },
     "execution_count": 13,
     "metadata": {},
     "output_type": "execute_result"
    }
   ],
   "source": [
    "len(data03)"
   ]
  },
  {
   "cell_type": "code",
   "execution_count": null,
   "metadata": {
    "collapsed": true
   },
   "outputs": [],
   "source": []
  },
  {
   "cell_type": "code",
   "execution_count": null,
   "metadata": {
    "collapsed": true
   },
   "outputs": [],
   "source": []
  },
  {
   "cell_type": "code",
   "execution_count": 2,
   "metadata": {
    "collapsed": false
   },
   "outputs": [
    {
     "name": "stdout",
     "output_type": "stream",
     "text": [
      "linux2\n"
     ]
    }
   ],
   "source": [
    "import shutil\n",
    "import os,sys\n",
    "source = os.listdir(\"/tmp/\")\n",
    "print sys.platform"
   ]
  },
  {
   "cell_type": "code",
   "execution_count": 9,
   "metadata": {
    "collapsed": false
   },
   "outputs": [],
   "source": [
    "import unicodecsv as csv\n",
    "import glob, os\n",
    "import io\n",
    "from shutil import copyfile\n",
    "import shutil\n",
    "\n",
    "# Set the working directory\n",
    "os.chdir(\"/data1/call_miner/Vinyas_Call_miner/call_miner/Feb_Text_data\")\n",
    "filepath=''\n",
    "# Open the csv file which has the list of call/eureka ids i.e. filenames that we wish to read and process\n",
    "with open (\"/data1/call_miner/Vinyas_Call_miner/call_miner/Feb18_Id.csv\") as f2:\n",
    "    reader=csv.reader(f2)\n",
    "    data_list=list(reader)\n",
    "f2.close()    \n",
    "\n",
    "data = [y for x in data_list for y in x]\n",
    "[x.encode('UTF8') for x in data]\n",
    "\n",
    "s = set(data)\n",
    "\n",
    "for filename in glob.glob('*.txt'):\n",
    "    if filename in s:\n",
    "        shutil.copy(filename,\"/data1/call_miner/Vinyas_Call_miner/call_miner/feb_filter\")\n"
   ]
  },
  {
   "cell_type": "code",
   "execution_count": 7,
   "metadata": {
    "collapsed": false
   },
   "outputs": [
    {
     "data": {
      "text/plain": [
       "553469"
      ]
     },
     "execution_count": 7,
     "metadata": {},
     "output_type": "execute_result"
    }
   ],
   "source": [
    "len(data)"
   ]
  },
  {
   "cell_type": "code",
   "execution_count": 4,
   "metadata": {
    "collapsed": false
   },
   "outputs": [
    {
     "name": "stdout",
     "output_type": "stream",
     "text": [
      "CPU times: user 931 ms, sys: 60 ms, total: 991 ms\n",
      "Wall time: 975 ms\n"
     ]
    }
   ],
   "source": [
    "import os\n",
    "import timeit\n",
    "\n",
    "#corpus_path=\"/data1/call_miner/Vinyas_Call_miner/call_miner/Feb_Text_data\"\n",
    "corpus_path=\"/data1/call_miner/Vinyas_Call_miner/call_miner/May_CM_Untagged\"\n",
    "%time fn = sorted([os.path.join(corpus_path, fn) for fn in os.listdir(corpus_path)])"
   ]
  },
  {
   "cell_type": "code",
   "execution_count": 5,
   "metadata": {
    "collapsed": false
   },
   "outputs": [],
   "source": [
    "test=[]\n",
    "\n",
    "for fn1 in fn:\n",
    "        basename = os.path.basename(fn1)\n",
    "        name, ext = os.path.splitext(basename)\n",
    "        #name = name.rstrip('0123456789')\n",
    "        test.append(name)"
   ]
  },
  {
   "cell_type": "code",
   "execution_count": 6,
   "metadata": {
    "collapsed": false
   },
   "outputs": [],
   "source": [
    "import pandas as pd\n",
    "my_df = pd.DataFrame(test)\n",
    "my_df.to_csv('/data1/call_miner/Vinyas_Call_miner/call_miner/un_tagged.csv')"
   ]
  },
  {
   "cell_type": "code",
   "execution_count": 40,
   "metadata": {
    "collapsed": false
   },
   "outputs": [],
   "source": [
    "df = pd.DataFrame(test, columns = ['value'])"
   ]
  },
  {
   "cell_type": "code",
   "execution_count": null,
   "metadata": {
    "collapsed": false
   },
   "outputs": [],
   "source": [
    "df.value  =14271226"
   ]
  },
  {
   "cell_type": "code",
   "execution_count": 3,
   "metadata": {
    "collapsed": false
   },
   "outputs": [],
   "source": [
    "import unicodecsv as csv\n",
    "import glob, os\n",
    "import io\n",
    "from shutil import copyfile\n",
    "import shutil\n",
    "\n",
    "# Set the working directory\n",
    "os.chdir(\"/data1/call_miner/Vinyas_Call_miner/call_miner/May_CM_Untagged\")   \n",
    "\n",
    "s = set(['13958303.txt', '13992449.txt'])\n",
    "\n",
    "for filename in glob.glob('*.txt'):\n",
    "    if filename in s:\n",
    "        print filename\n",
    "        #shutil.copy(filename,\"/data1/call_miner/Vinyas_Call_miner/call_miner/May_CM_Tagged\")"
   ]
  },
  {
   "cell_type": "code",
   "execution_count": 15,
   "metadata": {
    "collapsed": true
   },
   "outputs": [],
   "source": [
    "import glob\n",
    "import os\n",
    "\n",
    "os.chdir(\"/data1/call_miner/Vinyas_Call_miner/call_miner\")\n",
    "#file_list = glob.glob(os.path.join(os.getcwd(), \"Feb_Text_data\", \"*.txt\"))\n",
    "file_list = glob.glob(os.path.join(os.getcwd(), \"Dayone_rpt_data_miss\", \"*.txt\"))\n",
    "\n",
    "corpus_test = []\n",
    "\n",
    "for file_path in file_list:\n",
    "    with open(file_path) as f_input:\n",
    "        corpus_test.append(f_input.read())"
   ]
  },
  {
   "cell_type": "code",
   "execution_count": 21,
   "metadata": {
    "collapsed": false
   },
   "outputs": [
    {
     "name": "stdout",
     "output_type": "stream",
     "text": [
      "CPU times: user 49 ms, sys: 19 ms, total: 68 ms\n",
      "Wall time: 63.3 ms\n"
     ]
    }
   ],
   "source": [
    "import os\n",
    "import timeit\n",
    "\n",
    "#corpus_path=\"/data1/call_miner/Vinyas_Call_miner/call_miner/Feb_Text_data\"\n",
    "corpus_path=\"/data1/call_miner/Vinyas_Call_miner/call_miner/Dayone_rpt_data_miss\"\n",
    "%time filenames = sorted([os.path.join(corpus_path, fn) for fn in os.listdir(corpus_path)])"
   ]
  },
  {
   "cell_type": "code",
   "execution_count": 22,
   "metadata": {
    "collapsed": true
   },
   "outputs": [],
   "source": [
    "Eureka=[]\n",
    "\n",
    "for fn in filenames:\n",
    "        basename = os.path.basename(fn)\n",
    "        name, ext = os.path.splitext(basename)\n",
    "        #name = name.rstrip('0123456789')\n",
    "        Eureka.append(name)"
   ]
  },
  {
   "cell_type": "code",
   "execution_count": 25,
   "metadata": {
    "collapsed": false
   },
   "outputs": [],
   "source": [
    "import pandas as pd\n",
    "my_df = pd.DataFrame(Eureka)\n",
    "my_df.to_csv('/data1/call_miner/Vinyas_Call_miner/call_miner/missed.csv')"
   ]
  },
  {
   "cell_type": "code",
   "execution_count": 32,
   "metadata": {
    "collapsed": true
   },
   "outputs": [],
   "source": [
    "# load data\n",
    "import csv\n",
    "with open('/data1/call_miner/Vinyas_Call_miner/call_miner/Lavanya/May_CM_Tagged_data/data_words_quadgrams_V04.csv','rU') as f1:\n",
    "    test=list( csv.reader(f1) )"
   ]
  },
  {
   "cell_type": "code",
   "execution_count": 27,
   "metadata": {
    "collapsed": false
   },
   "outputs": [
    {
     "name": "stdout",
     "output_type": "stream",
     "text": [
      "CPU times: user 15 ms, sys: 2 ms, total: 17 ms\n",
      "Wall time: 16.2 ms\n"
     ]
    }
   ],
   "source": [
    "import re\n",
    "#noise = open(\"/data1/call_miner/Vinyas_Call_miner/call_miner/Lavanya/Noise_words.txt\").readlines()\n",
    "f = open('/data1/call_miner/Vinyas_Call_miner/call_miner/Lavanya/May_CM_Tagged_data/Noise_Phrases_May.txt', 'r')\n",
    "noise = f.read()\n",
    "del_words=[i.strip() for i in noise.split(',')]\n",
    "f.close()\n",
    "\n",
    "# Remove distracting single quotes\n",
    "%time  del_list= [re.sub(\"\\'\", \"\", sent) for sent in del_words]"
   ]
  },
  {
   "cell_type": "code",
   "execution_count": 37,
   "metadata": {
    "collapsed": true
   },
   "outputs": [],
   "source": [
    "for word in data_quad:  # iterating on a copy since removing will mess things up\n",
    "    if word in del_list:\n",
    "        data_quad.remove(word)"
   ]
  },
  {
   "cell_type": "code",
   "execution_count": 35,
   "metadata": {
    "collapsed": false
   },
   "outputs": [
    {
     "name": "stdout",
     "output_type": "stream",
     "text": [
      "[['assisting', 'line', 'shortly', 'hi', 'account', 'care', 'credit', 'verify', 'mailing_address', 'update', 'address', 'leave', 'number', 'address', 'update', 'correct', 'address', 'help', 'reason', 'mail', 'trying', 'information', 'card', 'address', 'changed', 'receive', 'survey_survey', 'worry', 'worried', 'sending', 'card', 'returned', 'mailed', 'payment', 'account', 'minimum', 'payment', 'balance', 'help', 'pleasure', 'help'], ['credit', 'account', 'trying', 'payment', 'phone', 'connect', 'pay', 'phone', 'assist', 'automated', 'didnt', 'work', 'payment', 'card', 'payment', 'card', 'know', 'account', 'account', 'payment', 'account', 'account', 'account', 'number', 'checking', 'account', 'account', 'payment', 'know', 'data', 'hi', 'credit', 'information', 'balance', 'payment', 'didnt', 'paid', 'correct', 'connect', 'connect', 'payment', 'applied', 'car', 'cycle_cycle', 'process', 'payment', 'payment', 'payment'], ['assisting_assist', 'account', 'number', 'hi', 'service', 'line', 'fully_verified', 'account', 'supervisor', 'letter', 'receive', 'credit', 'limit_decreased', 'worries', 'account', 'manager', 'credit', 'line', 'letter', 'havent', 'credit', 'card', 'issues', 'long', 'unfortunately', 'credit', 'line', 'decrease', 'card', 'holders', 'card', 'holders', 'unfortunately', 'customers', 'account', 'credit', 'trying', 'letter', 'know', 'delinquent', 'know', 'credit', 'credit', 'credit', 'late', 'unfortunately', 'credit', 'bureaus', 'account', 'unfortunately', 'credit', 'bureau', 'know', 'credit', 'credit', 'letter', 'promotional', 'balance', 'credit', 'limits', 'long', 'accounts', 'high', 'order', 'account', 'know', 'union', 'reporting', 'unfortunately', 'bank', 'lower', 'credit', 'line', 'know', 'wont', 'credit', 'line_increase_subject', 'credit', 'approval', 'unfortunately', 'account', 'credit', 'close', 'account', 'leave', 'account', 'hi', 'able', 'help']]\n"
     ]
    }
   ],
   "source": [
    "print test[7144:7147]"
   ]
  },
  {
   "cell_type": "code",
   "execution_count": 29,
   "metadata": {
    "collapsed": false
   },
   "outputs": [
    {
     "data": {
      "text/plain": [
       "706036"
      ]
     },
     "execution_count": 29,
     "metadata": {},
     "output_type": "execute_result"
    }
   ],
   "source": [
    "len(data_quad)"
   ]
  },
  {
   "cell_type": "code",
   "execution_count": 39,
   "metadata": {
    "collapsed": false
   },
   "outputs": [
    {
     "name": "stdout",
     "output_type": "stream",
     "text": [
      "[['assisting', 'line', 'shortly', 'hi', 'account', 'care', 'credit', 'verify', 'mailing_address', 'update', 'address', 'leave', 'number', 'address', 'update', 'correct', 'address', 'help', 'reason', 'mail', 'trying', 'information', 'card', 'address', 'changed', 'receive', 'survey_survey', 'worry', 'worried', 'sending', 'card', 'returned', 'mailed', 'payment', 'account', 'minimum', 'payment', 'balance', 'help', 'pleasure', 'help'], ['credit', 'account', 'trying', 'payment', 'phone', 'connect', 'pay', 'phone', 'assist', 'automated', 'didnt', 'work', 'payment', 'card', 'payment', 'card', 'know', 'account', 'account', 'payment', 'account', 'account', 'account', 'number', 'checking', 'account', 'account', 'payment', 'know', 'data', 'hi', 'credit', 'information', 'balance', 'payment', 'didnt', 'paid', 'correct', 'connect', 'connect', 'payment', 'applied', 'car', 'cycle_cycle', 'process', 'payment', 'payment', 'payment'], ['assisting_assist', 'account', 'number', 'hi', 'service', 'line', 'fully_verified', 'account', 'supervisor', 'letter', 'receive', 'credit', 'limit_decreased', 'worries', 'account', 'manager', 'credit', 'line', 'letter', 'havent', 'credit', 'card', 'issues', 'long', 'unfortunately', 'credit', 'line', 'decrease', 'card', 'holders', 'card', 'holders', 'unfortunately', 'customers', 'account', 'credit', 'trying', 'letter', 'know', 'delinquent', 'know', 'credit', 'credit', 'credit', 'late', 'unfortunately', 'credit', 'bureaus', 'account', 'unfortunately', 'credit', 'bureau', 'know', 'credit', 'credit', 'letter', 'promotional', 'balance', 'credit', 'limits', 'long', 'accounts', 'high', 'order', 'account', 'know', 'union', 'reporting', 'unfortunately', 'bank', 'lower', 'credit', 'line', 'know', 'wont', 'credit', 'line_increase_subject', 'credit', 'approval', 'unfortunately', 'account', 'credit', 'close', 'account', 'leave', 'account', 'hi', 'able', 'help']]\n"
     ]
    }
   ],
   "source": [
    "print data_quad[7144:7147]"
   ]
  },
  {
   "cell_type": "code",
   "execution_count": 1,
   "metadata": {
    "collapsed": false
   },
   "outputs": [],
   "source": [
    "import scattertext as st"
   ]
  },
  {
   "cell_type": "code",
   "execution_count": 4,
   "metadata": {
    "collapsed": false
   },
   "outputs": [
    {
     "ename": "ImportError",
     "evalue": "No module named quidedlda",
     "output_type": "error",
     "traceback": [
      "\u001b[0;31m---------------------------------------------------------------------------\u001b[0m",
      "\u001b[0;31mImportError\u001b[0m                               Traceback (most recent call last)",
      "\u001b[0;32m<ipython-input-4-a1bead0faccf>\u001b[0m in \u001b[0;36m<module>\u001b[0;34m()\u001b[0m\n\u001b[0;32m----> 1\u001b[0;31m \u001b[0;32mimport\u001b[0m \u001b[0mquidedlda\u001b[0m\u001b[0;34m\u001b[0m\u001b[0m\n\u001b[0m",
      "\u001b[0;31mImportError\u001b[0m: No module named quidedlda"
     ]
    }
   ],
   "source": [
    "import quidedlda"
   ]
  },
  {
   "cell_type": "code",
   "execution_count": 15,
   "metadata": {
    "collapsed": false
   },
   "outputs": [],
   "source": [
    "import glob\n",
    "import os\n",
    "\n",
    "os.chdir(\"/data1/call_miner/Vinyas_Call_miner/call_miner\")\n",
    "#file_list = glob.glob(os.path.join(os.getcwd(), \"Feb_Text_data\", \"*.txt\"))\n",
    "file_list = glob.glob(os.path.join(os.getcwd(), \"May_CM_Untagged\", \"*.txt\"))\n",
    "\n",
    "corpus_1 = []\n",
    "\n",
    "for file_path in file_list:\n",
    "    with open(file_path) as f_input:\n",
    "        corpus_1.append((file_path.replace( '/data1/call_miner/Vinyas_Call_miner/call_miner/May_CM_Untagged/', ''),f_input.read()))\n",
    "        "
   ]
  },
  {
   "cell_type": "code",
   "execution_count": 28,
   "metadata": {
    "collapsed": false
   },
   "outputs": [
    {
     "data": {
      "text/plain": [
       "Eureka_ID    object\n",
       "Content      object\n",
       "dtype: object"
      ]
     },
     "execution_count": 28,
     "metadata": {},
     "output_type": "execute_result"
    }
   ],
   "source": [
    "df.dtypes"
   ]
  },
  {
   "cell_type": "code",
   "execution_count": 16,
   "metadata": {
    "collapsed": false
   },
   "outputs": [],
   "source": [
    "import pandas as pd\n",
    "df = pd.DataFrame(corpus_1, columns=['Eureka_ID', 'Content'])"
   ]
  },
  {
   "cell_type": "code",
   "execution_count": 17,
   "metadata": {
    "collapsed": false
   },
   "outputs": [
    {
     "data": {
      "text/html": [
       "<div>\n",
       "<table border=\"1\" class=\"dataframe\">\n",
       "  <thead>\n",
       "    <tr style=\"text-align: right;\">\n",
       "      <th></th>\n",
       "      <th>Eureka_ID</th>\n",
       "      <th>Content</th>\n",
       "    </tr>\n",
       "  </thead>\n",
       "  <tbody>\n",
       "    <tr>\n",
       "      <th>0</th>\n",
       "      <td>13932314.txt</td>\n",
       "      <td>this entire call will be recorded and monitore...</td>\n",
       "    </tr>\n",
       "    <tr>\n",
       "      <th>1</th>\n",
       "      <td>13949801.txt</td>\n",
       "      <td>hello\\r\\nreal person\\r\\nthanks for calling cre...</td>\n",
       "    </tr>\n",
       "    <tr>\n",
       "      <th>2</th>\n",
       "      <td>13965968.txt</td>\n",
       "      <td>thank you for calling century car care my name...</td>\n",
       "    </tr>\n",
       "    <tr>\n",
       "      <th>3</th>\n",
       "      <td>13938687.txt</td>\n",
       "      <td>thank you thank you for calling card services ...</td>\n",
       "    </tr>\n",
       "    <tr>\n",
       "      <th>4</th>\n",
       "      <td>13926052.txt</td>\n",
       "      <td>credit services this is tanya may i have your ...</td>\n",
       "    </tr>\n",
       "    <tr>\n",
       "      <th>5</th>\n",
       "      <td>13941034.txt</td>\n",
       "      <td>lowes trade center this is wayne can you have ...</td>\n",
       "    </tr>\n",
       "    <tr>\n",
       "      <th>6</th>\n",
       "      <td>13946465.txt</td>\n",
       "      <td>thank you for calling my name is brandy and i ...</td>\n",
       "    </tr>\n",
       "    <tr>\n",
       "      <th>7</th>\n",
       "      <td>13934358.txt</td>\n",
       "      <td>hi this is esther amy please have your first a...</td>\n",
       "    </tr>\n",
       "    <tr>\n",
       "      <th>8</th>\n",
       "      <td>13963591.txt</td>\n",
       "      <td>this entire call will be recorded and monitore...</td>\n",
       "    </tr>\n",
       "    <tr>\n",
       "      <th>9</th>\n",
       "      <td>13962187.txt</td>\n",
       "      <td>thank you for holding this natasha today is yo...</td>\n",
       "    </tr>\n",
       "    <tr>\n",
       "      <th>10</th>\n",
       "      <td>13930435.txt</td>\n",
       "      <td>this entire call will be recorded and monitore...</td>\n",
       "    </tr>\n",
       "    <tr>\n",
       "      <th>11</th>\n",
       "      <td>13936449.txt</td>\n",
       "      <td>this entire call will be recorded and monitore...</td>\n",
       "    </tr>\n",
       "    <tr>\n",
       "      <th>12</th>\n",
       "      <td>13967297.txt</td>\n",
       "      <td>all representatives are currently assisting ot...</td>\n",
       "    </tr>\n",
       "    <tr>\n",
       "      <th>13</th>\n",
       "      <td>13932230.txt</td>\n",
       "      <td>post credit services my name is john may have ...</td>\n",
       "    </tr>\n",
       "    <tr>\n",
       "      <th>14</th>\n",
       "      <td>13943453.txt</td>\n",
       "      <td>all representatives are currently assisting hi...</td>\n",
       "    </tr>\n",
       "    <tr>\n",
       "      <th>15</th>\n",
       "      <td>13931613.txt</td>\n",
       "      <td>hello this is steven lee please have your even...</td>\n",
       "    </tr>\n",
       "    <tr>\n",
       "      <th>16</th>\n",
       "      <td>13927125.txt</td>\n",
       "      <td>thank you for calling credit services my name ...</td>\n",
       "    </tr>\n",
       "    <tr>\n",
       "      <th>17</th>\n",
       "      <td>13941569.txt</td>\n",
       "      <td>all representatives are currently assisting ot...</td>\n",
       "    </tr>\n",
       "    <tr>\n",
       "      <th>18</th>\n",
       "      <td>13959621.txt</td>\n",
       "      <td>thank you for calling lowes credit services my...</td>\n",
       "    </tr>\n",
       "    <tr>\n",
       "      <th>19</th>\n",
       "      <td>13954383.txt</td>\n",
       "      <td>hi my name is chris and i have your first and ...</td>\n",
       "    </tr>\n",
       "    <tr>\n",
       "      <th>20</th>\n",
       "      <td>13938510.txt</td>\n",
       "      <td>all representatives are currently assisting ot...</td>\n",
       "    </tr>\n",
       "    <tr>\n",
       "      <th>21</th>\n",
       "      <td>13933179.txt</td>\n",
       "      <td>all representatives are currently assisting ot...</td>\n",
       "    </tr>\n",
       "    <tr>\n",
       "      <th>22</th>\n",
       "      <td>13960722.txt</td>\n",
       "      <td>lowes commercial credit this is karen how can ...</td>\n",
       "    </tr>\n",
       "    <tr>\n",
       "      <th>23</th>\n",
       "      <td>13924965.txt</td>\n",
       "      <td>good morning thank you for calling kumar this ...</td>\n",
       "    </tr>\n",
       "    <tr>\n",
       "      <th>24</th>\n",
       "      <td>13957315.txt</td>\n",
       "      <td>all representatives are currently assisting ot...</td>\n",
       "    </tr>\n",
       "    <tr>\n",
       "      <th>25</th>\n",
       "      <td>13931472.txt</td>\n",
       "      <td>my\\r\\nmy name is anthony may i have your name ...</td>\n",
       "    </tr>\n",
       "    <tr>\n",
       "      <th>26</th>\n",
       "      <td>13932466.txt</td>\n",
       "      <td>thank you for calling my name is amy may have ...</td>\n",
       "    </tr>\n",
       "    <tr>\n",
       "      <th>27</th>\n",
       "      <td>13932972.txt</td>\n",
       "      <td>hi this is jake may have your first and last n...</td>\n",
       "    </tr>\n",
       "    <tr>\n",
       "      <th>28</th>\n",
       "      <td>13949116.txt</td>\n",
       "      <td>thank you for calling tj ex rewards my name is...</td>\n",
       "    </tr>\n",
       "    <tr>\n",
       "      <th>29</th>\n",
       "      <td>13949608.txt</td>\n",
       "      <td>howard\\r\\ngood morning thank you for calling s...</td>\n",
       "    </tr>\n",
       "    <tr>\n",
       "      <th>...</th>\n",
       "      <td>...</td>\n",
       "      <td>...</td>\n",
       "    </tr>\n",
       "    <tr>\n",
       "      <th>359553</th>\n",
       "      <td>14985923.txt</td>\n",
       "      <td>hey jackie where is my name is maggie may have...</td>\n",
       "    </tr>\n",
       "    <tr>\n",
       "      <th>359554</th>\n",
       "      <td>14960735.txt</td>\n",
       "      <td>thank you for calling all representatives are ...</td>\n",
       "    </tr>\n",
       "    <tr>\n",
       "      <th>359555</th>\n",
       "      <td>14974666.txt</td>\n",
       "      <td>correction\\r\\nthank you for calling my name is...</td>\n",
       "    </tr>\n",
       "    <tr>\n",
       "      <th>359556</th>\n",
       "      <td>14982743.txt</td>\n",
       "      <td>thank you for calling lowes credit services al...</td>\n",
       "    </tr>\n",
       "    <tr>\n",
       "      <th>359557</th>\n",
       "      <td>14974748.txt</td>\n",
       "      <td>hi my name is alvin may have your name\\r\\nterr...</td>\n",
       "    </tr>\n",
       "    <tr>\n",
       "      <th>359558</th>\n",
       "      <td>14983521.txt</td>\n",
       "      <td>thank you for calling lowes credit service my ...</td>\n",
       "    </tr>\n",
       "    <tr>\n",
       "      <th>359559</th>\n",
       "      <td>14967554.txt</td>\n",
       "      <td>thank you for calling customer service our rep...</td>\n",
       "    </tr>\n",
       "    <tr>\n",
       "      <th>359560</th>\n",
       "      <td>14959351.txt</td>\n",
       "      <td>thank you for holding my name is macy can i pl...</td>\n",
       "    </tr>\n",
       "    <tr>\n",
       "      <th>359561</th>\n",
       "      <td>14948035.txt</td>\n",
       "      <td>all representatives are currently assisting ot...</td>\n",
       "    </tr>\n",
       "    <tr>\n",
       "      <th>359562</th>\n",
       "      <td>14957234.txt</td>\n",
       "      <td>thank you for calling tj actually wards my nam...</td>\n",
       "    </tr>\n",
       "    <tr>\n",
       "      <th>359563</th>\n",
       "      <td>14986710.txt</td>\n",
       "      <td>run here from think bank what is your name\\r\\n...</td>\n",
       "    </tr>\n",
       "    <tr>\n",
       "      <th>359564</th>\n",
       "      <td>14973296.txt</td>\n",
       "      <td>lowe'scredit services this is charlotte i have...</td>\n",
       "    </tr>\n",
       "    <tr>\n",
       "      <th>359565</th>\n",
       "      <td>14977365.txt</td>\n",
       "      <td>this entire\\r\\nyes\\r\\ncall will be recorded an...</td>\n",
       "    </tr>\n",
       "    <tr>\n",
       "      <th>359566</th>\n",
       "      <td>14978295.txt</td>\n",
       "      <td>test two thank you for calling my name is tory...</td>\n",
       "    </tr>\n",
       "    <tr>\n",
       "      <th>359567</th>\n",
       "      <td>14978220.txt</td>\n",
       "      <td>thank you for calling q card this is tammy can...</td>\n",
       "    </tr>\n",
       "    <tr>\n",
       "      <th>359568</th>\n",
       "      <td>14986754.txt</td>\n",
       "      <td>this is mary could i have your first name plea...</td>\n",
       "    </tr>\n",
       "    <tr>\n",
       "      <th>359569</th>\n",
       "      <td>14971577.txt</td>\n",
       "      <td>thank you for calling symphony this is\\r\\nyeah...</td>\n",
       "    </tr>\n",
       "    <tr>\n",
       "      <th>359570</th>\n",
       "      <td>14969770.txt</td>\n",
       "      <td>all representatives are currently assisting ot...</td>\n",
       "    </tr>\n",
       "    <tr>\n",
       "      <th>359571</th>\n",
       "      <td>14966634.txt</td>\n",
       "      <td>hello my name is john can i get you name pleas...</td>\n",
       "    </tr>\n",
       "    <tr>\n",
       "      <th>359572</th>\n",
       "      <td>14990098.txt</td>\n",
       "      <td>thank you for calling sink renee bank my name ...</td>\n",
       "    </tr>\n",
       "    <tr>\n",
       "      <th>359573</th>\n",
       "      <td>14969410.txt</td>\n",
       "      <td>hi it's rhoda they have you any\\r\\nrow abby ho...</td>\n",
       "    </tr>\n",
       "    <tr>\n",
       "      <th>359574</th>\n",
       "      <td>14960207.txt</td>\n",
       "      <td>this entire call will be recorded and monitore...</td>\n",
       "    </tr>\n",
       "    <tr>\n",
       "      <th>359575</th>\n",
       "      <td>14963175.txt</td>\n",
       "      <td>hey regarding those credit services this is ma...</td>\n",
       "    </tr>\n",
       "    <tr>\n",
       "      <th>359576</th>\n",
       "      <td>14989004.txt</td>\n",
       "      <td>thank you for holding thank you for calling my...</td>\n",
       "    </tr>\n",
       "    <tr>\n",
       "      <th>359577</th>\n",
       "      <td>14988239.txt</td>\n",
       "      <td>if you haven't already you can earn redacted f...</td>\n",
       "    </tr>\n",
       "    <tr>\n",
       "      <th>359578</th>\n",
       "      <td>14963146.txt</td>\n",
       "      <td>thank you for calling this is ed kenny have yo...</td>\n",
       "    </tr>\n",
       "    <tr>\n",
       "      <th>359579</th>\n",
       "      <td>14968305.txt</td>\n",
       "      <td>this\\r\\nthank you for calling credit services ...</td>\n",
       "    </tr>\n",
       "    <tr>\n",
       "      <th>359580</th>\n",
       "      <td>14981174.txt</td>\n",
       "      <td>hi my name is maria maybe you have the name re...</td>\n",
       "    </tr>\n",
       "    <tr>\n",
       "      <th>359581</th>\n",
       "      <td>14981705.txt</td>\n",
       "      <td>this entire call will be recorded and monitore...</td>\n",
       "    </tr>\n",
       "    <tr>\n",
       "      <th>359582</th>\n",
       "      <td>14986323.txt</td>\n",
       "      <td>please enter your full\\r\\nmy name okay my name...</td>\n",
       "    </tr>\n",
       "  </tbody>\n",
       "</table>\n",
       "<p>359583 rows × 2 columns</p>\n",
       "</div>"
      ],
      "text/plain": [
       "           Eureka_ID                                            Content\n",
       "0       13932314.txt  this entire call will be recorded and monitore...\n",
       "1       13949801.txt  hello\\r\\nreal person\\r\\nthanks for calling cre...\n",
       "2       13965968.txt  thank you for calling century car care my name...\n",
       "3       13938687.txt  thank you thank you for calling card services ...\n",
       "4       13926052.txt  credit services this is tanya may i have your ...\n",
       "5       13941034.txt  lowes trade center this is wayne can you have ...\n",
       "6       13946465.txt  thank you for calling my name is brandy and i ...\n",
       "7       13934358.txt  hi this is esther amy please have your first a...\n",
       "8       13963591.txt  this entire call will be recorded and monitore...\n",
       "9       13962187.txt  thank you for holding this natasha today is yo...\n",
       "10      13930435.txt  this entire call will be recorded and monitore...\n",
       "11      13936449.txt  this entire call will be recorded and monitore...\n",
       "12      13967297.txt  all representatives are currently assisting ot...\n",
       "13      13932230.txt  post credit services my name is john may have ...\n",
       "14      13943453.txt  all representatives are currently assisting hi...\n",
       "15      13931613.txt  hello this is steven lee please have your even...\n",
       "16      13927125.txt  thank you for calling credit services my name ...\n",
       "17      13941569.txt  all representatives are currently assisting ot...\n",
       "18      13959621.txt  thank you for calling lowes credit services my...\n",
       "19      13954383.txt  hi my name is chris and i have your first and ...\n",
       "20      13938510.txt  all representatives are currently assisting ot...\n",
       "21      13933179.txt  all representatives are currently assisting ot...\n",
       "22      13960722.txt  lowes commercial credit this is karen how can ...\n",
       "23      13924965.txt  good morning thank you for calling kumar this ...\n",
       "24      13957315.txt  all representatives are currently assisting ot...\n",
       "25      13931472.txt  my\\r\\nmy name is anthony may i have your name ...\n",
       "26      13932466.txt  thank you for calling my name is amy may have ...\n",
       "27      13932972.txt  hi this is jake may have your first and last n...\n",
       "28      13949116.txt  thank you for calling tj ex rewards my name is...\n",
       "29      13949608.txt  howard\\r\\ngood morning thank you for calling s...\n",
       "...              ...                                                ...\n",
       "359553  14985923.txt  hey jackie where is my name is maggie may have...\n",
       "359554  14960735.txt  thank you for calling all representatives are ...\n",
       "359555  14974666.txt  correction\\r\\nthank you for calling my name is...\n",
       "359556  14982743.txt  thank you for calling lowes credit services al...\n",
       "359557  14974748.txt  hi my name is alvin may have your name\\r\\nterr...\n",
       "359558  14983521.txt  thank you for calling lowes credit service my ...\n",
       "359559  14967554.txt  thank you for calling customer service our rep...\n",
       "359560  14959351.txt  thank you for holding my name is macy can i pl...\n",
       "359561  14948035.txt  all representatives are currently assisting ot...\n",
       "359562  14957234.txt  thank you for calling tj actually wards my nam...\n",
       "359563  14986710.txt  run here from think bank what is your name\\r\\n...\n",
       "359564  14973296.txt  lowe'scredit services this is charlotte i have...\n",
       "359565  14977365.txt  this entire\\r\\nyes\\r\\ncall will be recorded an...\n",
       "359566  14978295.txt  test two thank you for calling my name is tory...\n",
       "359567  14978220.txt  thank you for calling q card this is tammy can...\n",
       "359568  14986754.txt  this is mary could i have your first name plea...\n",
       "359569  14971577.txt  thank you for calling symphony this is\\r\\nyeah...\n",
       "359570  14969770.txt  all representatives are currently assisting ot...\n",
       "359571  14966634.txt  hello my name is john can i get you name pleas...\n",
       "359572  14990098.txt  thank you for calling sink renee bank my name ...\n",
       "359573  14969410.txt  hi it's rhoda they have you any\\r\\nrow abby ho...\n",
       "359574  14960207.txt  this entire call will be recorded and monitore...\n",
       "359575  14963175.txt  hey regarding those credit services this is ma...\n",
       "359576  14989004.txt  thank you for holding thank you for calling my...\n",
       "359577  14988239.txt  if you haven't already you can earn redacted f...\n",
       "359578  14963146.txt  thank you for calling this is ed kenny have yo...\n",
       "359579  14968305.txt  this\\r\\nthank you for calling credit services ...\n",
       "359580  14981174.txt  hi my name is maria maybe you have the name re...\n",
       "359581  14981705.txt  this entire call will be recorded and monitore...\n",
       "359582  14986323.txt  please enter your full\\r\\nmy name okay my name...\n",
       "\n",
       "[359583 rows x 2 columns]"
      ]
     },
     "execution_count": 17,
     "metadata": {},
     "output_type": "execute_result"
    }
   ],
   "source": [
    "df"
   ]
  },
  {
   "cell_type": "code",
   "execution_count": 22,
   "metadata": {
    "collapsed": false
   },
   "outputs": [
    {
     "data": {
      "text/html": [
       "<div>\n",
       "<table border=\"1\" class=\"dataframe\">\n",
       "  <thead>\n",
       "    <tr style=\"text-align: right;\">\n",
       "      <th></th>\n",
       "      <th>Eureka_ID</th>\n",
       "      <th>Content</th>\n",
       "    </tr>\n",
       "  </thead>\n",
       "  <tbody>\n",
       "    <tr>\n",
       "      <th>74977</th>\n",
       "      <td>14171101.txt</td>\n",
       "      <td>thank you for calling my name is siobhan with ...</td>\n",
       "    </tr>\n",
       "  </tbody>\n",
       "</table>\n",
       "</div>"
      ],
      "text/plain": [
       "          Eureka_ID                                            Content\n",
       "74977  14171101.txt  thank you for calling my name is siobhan with ..."
      ]
     },
     "execution_count": 22,
     "metadata": {},
     "output_type": "execute_result"
    }
   ],
   "source": [
    "df.loc[df['Eureka_ID'] == '14171101.txt']"
   ]
  },
  {
   "cell_type": "code",
   "execution_count": 29,
   "metadata": {
    "collapsed": true
   },
   "outputs": [],
   "source": [
    "import csv\n",
    "with open('/data1/call_miner/Vinyas_Call_miner/call_miner/Lavanya/May_CM_Untagged/data_words_quadgrams_updated.csv','rU') as f1:\n",
    "    data_quad=list( csv.reader(f1) )"
   ]
  },
  {
   "cell_type": "code",
   "execution_count": 31,
   "metadata": {
    "collapsed": false
   },
   "outputs": [
    {
     "name": "stdout",
     "output_type": "stream",
     "text": [
      "['symphony_bank', 'hi', 'case', 'reason', 'website', 'offer', 'certificate_deposit_cds', 'website', 'change', 'rate', 'long', 'change', 'rate', 'easy', 'late', 'subject', 'change', 'answer', 'know', 'website', 'rate', 'change', 'change', 'change', 'rate', 'change', 'rate', 'symphony_bank']\n"
     ]
    }
   ],
   "source": [
    "print data_quad[138981]"
   ]
  },
  {
   "cell_type": "code",
   "execution_count": 32,
   "metadata": {
    "collapsed": false
   },
   "outputs": [
    {
     "name": "stdout",
     "output_type": "stream",
     "text": [
      "['canada', 'logged', 'applications', 'having_trouble', 'id', 'number', 'accepting', 'promotion', 'tried', 'accepting', 'number', 'promotions', 'phonenumber']\n"
     ]
    }
   ],
   "source": [
    "print data_quad[74977]"
   ]
  },
  {
   "cell_type": "code",
   "execution_count": 5,
   "metadata": {
    "collapsed": true
   },
   "outputs": [],
   "source": [
    "import unicodecsv as csv\n",
    "import glob, os\n",
    "import io\n",
    "from shutil import copyfile\n",
    "import shutil\n",
    "\n",
    "# Set the working directory\n",
    "os.chdir(\"/data1/call_miner/Vinyas_Call_miner/call_miner/Feb_Text_data\")\n",
    "filepath=''\n",
    "# Open the csv file which has the list of call/eureka ids i.e. filenames that we wish to read and process\n",
    "with open (\"/data1/call_miner/Vinyas_Call_miner/call_miner/Feb18_Id.csv\") as f2:\n",
    "    reader=csv.reader(f2)\n",
    "    data_list=list(reader)\n",
    "f2.close()    \n",
    "\n",
    "data = [y for x in data_list for y in x]\n",
    "#[x.encode('UTF8') for x in data]\n",
    "\n",
    "s = set(data)\n",
    "\n",
    "for filename in glob.glob('*.txt'):\n",
    "    if filename in s:\n",
    "        shutil.copy(filename,\"/data1/call_miner/Vinyas_Call_miner/call_miner/feb_filter\")"
   ]
  },
  {
   "cell_type": "code",
   "execution_count": 6,
   "metadata": {
    "collapsed": false
   },
   "outputs": [
    {
     "data": {
      "text/plain": [
       "553463"
      ]
     },
     "execution_count": 6,
     "metadata": {},
     "output_type": "execute_result"
    }
   ],
   "source": [
    "len(s)"
   ]
  },
  {
   "cell_type": "code",
   "execution_count": 2,
   "metadata": {
    "collapsed": true
   },
   "outputs": [],
   "source": [
    "from pyspark import SparkContext, SparkConf\n",
    "from pyspark import SQLContext\n",
    "from pyspark.sql import HiveContext\n",
    "\n",
    "from pyspark.sql import *\n",
    "import pyspark\n",
    "\n",
    "import pandas as pd\n",
    "import random\n",
    "\n",
    "from pyspark.sql.functions import concat"
   ]
  },
  {
   "cell_type": "code",
   "execution_count": 4,
   "metadata": {
    "collapsed": true
   },
   "outputs": [],
   "source": [
    "from pyspark.sql import SparkSession\n",
    "sparkSession = SparkSession.builder.appName(\"example-pyspark-read-and-write\").getOrCreate()"
   ]
  },
  {
   "cell_type": "code",
   "execution_count": 6,
   "metadata": {
    "collapsed": true
   },
   "outputs": [],
   "source": [
    "p= sc.textFile(\"/hpoc/edl/data/common/operations/callminer_data/call_miner/Vail_CDR_Transcripts_Nov17.zip\")"
   ]
  },
  {
   "cell_type": "code",
   "execution_count": 7,
   "metadata": {
    "collapsed": false
   },
   "outputs": [
    {
     "data": {
      "text/plain": [
       "/hpoc/edl/data/common/operations/callminer_data/call_miner/Vail_CDR_Transcripts_Nov17.zip MapPartitionsRDD[1] at textFile at NativeMethodAccessorImpl.java:0"
      ]
     },
     "execution_count": 7,
     "metadata": {},
     "output_type": "execute_result"
    }
   ],
   "source": [
    "p"
   ]
  },
  {
   "cell_type": "code",
   "execution_count": 8,
   "metadata": {
    "collapsed": false
   },
   "outputs": [],
   "source": [
    "import os,zipfile\n",
    "#dir_name = \"hdfs:/hpoc/edl/data/common/operations/callminer_data/call_miner/\"\n",
    "#os.chdir(dir_name)\n",
    "zip_ref = sc.textFile(\"/hpoc/edl/data/common/operations/callminer_data/call_miner/Vail_CDR_Transcripts_Nov17.zip\")"
   ]
  },
  {
   "cell_type": "code",
   "execution_count": 9,
   "metadata": {
    "collapsed": false
   },
   "outputs": [
    {
     "data": {
      "text/plain": [
       "pyspark.rdd.RDD"
      ]
     },
     "execution_count": 9,
     "metadata": {},
     "output_type": "execute_result"
    }
   ],
   "source": [
    "type(zip_ref)"
   ]
  },
  {
   "cell_type": "code",
   "execution_count": 11,
   "metadata": {
    "collapsed": true
   },
   "outputs": [],
   "source": [
    "path=\"hdfs:/hpoc/edl/data/common/operations/callminer_data/call_miner/Vail_CDR_Transcripts_Nov17.zip\""
   ]
  },
  {
   "cell_type": "code",
   "execution_count": 14,
   "metadata": {
    "collapsed": false
   },
   "outputs": [
    {
     "ename": "KeyboardInterrupt",
     "evalue": "",
     "output_type": "error",
     "traceback": [
      "\u001b[0;31m---------------------------------------------------------------------------\u001b[0m",
      "\u001b[0;31mKeyboardInterrupt\u001b[0m                         Traceback (most recent call last)",
      "\u001b[0;32m<ipython-input-14-351a59ea2d14>\u001b[0m in \u001b[0;36m<module>\u001b[0;34m()\u001b[0m\n\u001b[1;32m     10\u001b[0m \u001b[0;34m\u001b[0m\u001b[0m\n\u001b[1;32m     11\u001b[0m \u001b[0mzips\u001b[0m \u001b[0;34m=\u001b[0m \u001b[0msc\u001b[0m\u001b[0;34m.\u001b[0m\u001b[0mbinaryFiles\u001b[0m\u001b[0;34m(\u001b[0m\u001b[0;34m\"hdfs:/hpoc/edl/data/common/operations/callminer_data/call_miner/Vail_CDR_Transcripts_Nov17.zip\"\u001b[0m\u001b[0;34m)\u001b[0m\u001b[0;34m\u001b[0m\u001b[0m\n\u001b[0;32m---> 12\u001b[0;31m \u001b[0mfiles_data\u001b[0m \u001b[0;34m=\u001b[0m \u001b[0mzips\u001b[0m\u001b[0;34m.\u001b[0m\u001b[0mmap\u001b[0m\u001b[0;34m(\u001b[0m\u001b[0mzip_extract\u001b[0m\u001b[0;34m)\u001b[0m\u001b[0;34m.\u001b[0m\u001b[0mcollect\u001b[0m\u001b[0;34m(\u001b[0m\u001b[0;34m)\u001b[0m\u001b[0;34m\u001b[0m\u001b[0m\n\u001b[0m",
      "\u001b[0;32m/usr/hdp/current/spark2-client/python/pyspark/rdd.pyc\u001b[0m in \u001b[0;36mcollect\u001b[0;34m(self)\u001b[0m\n\u001b[1;32m    806\u001b[0m         \"\"\"\n\u001b[1;32m    807\u001b[0m         \u001b[0;32mwith\u001b[0m \u001b[0mSCCallSiteSync\u001b[0m\u001b[0;34m(\u001b[0m\u001b[0mself\u001b[0m\u001b[0;34m.\u001b[0m\u001b[0mcontext\u001b[0m\u001b[0;34m)\u001b[0m \u001b[0;32mas\u001b[0m \u001b[0mcss\u001b[0m\u001b[0;34m:\u001b[0m\u001b[0;34m\u001b[0m\u001b[0m\n\u001b[0;32m--> 808\u001b[0;31m             \u001b[0mport\u001b[0m \u001b[0;34m=\u001b[0m \u001b[0mself\u001b[0m\u001b[0;34m.\u001b[0m\u001b[0mctx\u001b[0m\u001b[0;34m.\u001b[0m\u001b[0m_jvm\u001b[0m\u001b[0;34m.\u001b[0m\u001b[0mPythonRDD\u001b[0m\u001b[0;34m.\u001b[0m\u001b[0mcollectAndServe\u001b[0m\u001b[0;34m(\u001b[0m\u001b[0mself\u001b[0m\u001b[0;34m.\u001b[0m\u001b[0m_jrdd\u001b[0m\u001b[0;34m.\u001b[0m\u001b[0mrdd\u001b[0m\u001b[0;34m(\u001b[0m\u001b[0;34m)\u001b[0m\u001b[0;34m)\u001b[0m\u001b[0;34m\u001b[0m\u001b[0m\n\u001b[0m\u001b[1;32m    809\u001b[0m         \u001b[0;32mreturn\u001b[0m \u001b[0mlist\u001b[0m\u001b[0;34m(\u001b[0m\u001b[0m_load_from_socket\u001b[0m\u001b[0;34m(\u001b[0m\u001b[0mport\u001b[0m\u001b[0;34m,\u001b[0m \u001b[0mself\u001b[0m\u001b[0;34m.\u001b[0m\u001b[0m_jrdd_deserializer\u001b[0m\u001b[0;34m)\u001b[0m\u001b[0;34m)\u001b[0m\u001b[0;34m\u001b[0m\u001b[0m\n\u001b[1;32m    810\u001b[0m \u001b[0;34m\u001b[0m\u001b[0m\n",
      "\u001b[0;32m/usr/hdp/current/spark2-client/python/lib/py4j-0.10.4-src.zip/py4j/java_gateway.py\u001b[0m in \u001b[0;36m__call__\u001b[0;34m(self, *args)\u001b[0m\n\u001b[1;32m   1129\u001b[0m             \u001b[0mproto\u001b[0m\u001b[0;34m.\u001b[0m\u001b[0mEND_COMMAND_PART\u001b[0m\u001b[0;34m\u001b[0m\u001b[0m\n\u001b[1;32m   1130\u001b[0m \u001b[0;34m\u001b[0m\u001b[0m\n\u001b[0;32m-> 1131\u001b[0;31m         \u001b[0manswer\u001b[0m \u001b[0;34m=\u001b[0m \u001b[0mself\u001b[0m\u001b[0;34m.\u001b[0m\u001b[0mgateway_client\u001b[0m\u001b[0;34m.\u001b[0m\u001b[0msend_command\u001b[0m\u001b[0;34m(\u001b[0m\u001b[0mcommand\u001b[0m\u001b[0;34m)\u001b[0m\u001b[0;34m\u001b[0m\u001b[0m\n\u001b[0m\u001b[1;32m   1132\u001b[0m         return_value = get_return_value(\n\u001b[1;32m   1133\u001b[0m             answer, self.gateway_client, self.target_id, self.name)\n",
      "\u001b[0;32m/usr/hdp/current/spark2-client/python/lib/py4j-0.10.4-src.zip/py4j/java_gateway.py\u001b[0m in \u001b[0;36msend_command\u001b[0;34m(self, command, retry, binary)\u001b[0m\n\u001b[1;32m    881\u001b[0m         \u001b[0mconnection\u001b[0m \u001b[0;34m=\u001b[0m \u001b[0mself\u001b[0m\u001b[0;34m.\u001b[0m\u001b[0m_get_connection\u001b[0m\u001b[0;34m(\u001b[0m\u001b[0;34m)\u001b[0m\u001b[0;34m\u001b[0m\u001b[0m\n\u001b[1;32m    882\u001b[0m         \u001b[0;32mtry\u001b[0m\u001b[0;34m:\u001b[0m\u001b[0;34m\u001b[0m\u001b[0m\n\u001b[0;32m--> 883\u001b[0;31m             \u001b[0mresponse\u001b[0m \u001b[0;34m=\u001b[0m \u001b[0mconnection\u001b[0m\u001b[0;34m.\u001b[0m\u001b[0msend_command\u001b[0m\u001b[0;34m(\u001b[0m\u001b[0mcommand\u001b[0m\u001b[0;34m)\u001b[0m\u001b[0;34m\u001b[0m\u001b[0m\n\u001b[0m\u001b[1;32m    884\u001b[0m             \u001b[0;32mif\u001b[0m \u001b[0mbinary\u001b[0m\u001b[0;34m:\u001b[0m\u001b[0;34m\u001b[0m\u001b[0m\n\u001b[1;32m    885\u001b[0m                 \u001b[0;32mreturn\u001b[0m \u001b[0mresponse\u001b[0m\u001b[0;34m,\u001b[0m \u001b[0mself\u001b[0m\u001b[0;34m.\u001b[0m\u001b[0m_create_connection_guard\u001b[0m\u001b[0;34m(\u001b[0m\u001b[0mconnection\u001b[0m\u001b[0;34m)\u001b[0m\u001b[0;34m\u001b[0m\u001b[0m\n",
      "\u001b[0;32m/usr/hdp/current/spark2-client/python/lib/py4j-0.10.4-src.zip/py4j/java_gateway.py\u001b[0m in \u001b[0;36msend_command\u001b[0;34m(self, command)\u001b[0m\n\u001b[1;32m   1026\u001b[0m \u001b[0;34m\u001b[0m\u001b[0m\n\u001b[1;32m   1027\u001b[0m         \u001b[0;32mtry\u001b[0m\u001b[0;34m:\u001b[0m\u001b[0;34m\u001b[0m\u001b[0m\n\u001b[0;32m-> 1028\u001b[0;31m             \u001b[0manswer\u001b[0m \u001b[0;34m=\u001b[0m \u001b[0msmart_decode\u001b[0m\u001b[0;34m(\u001b[0m\u001b[0mself\u001b[0m\u001b[0;34m.\u001b[0m\u001b[0mstream\u001b[0m\u001b[0;34m.\u001b[0m\u001b[0mreadline\u001b[0m\u001b[0;34m(\u001b[0m\u001b[0;34m)\u001b[0m\u001b[0;34m[\u001b[0m\u001b[0;34m:\u001b[0m\u001b[0;34m-\u001b[0m\u001b[0;36m1\u001b[0m\u001b[0;34m]\u001b[0m\u001b[0;34m)\u001b[0m\u001b[0;34m\u001b[0m\u001b[0m\n\u001b[0m\u001b[1;32m   1029\u001b[0m             \u001b[0mlogger\u001b[0m\u001b[0;34m.\u001b[0m\u001b[0mdebug\u001b[0m\u001b[0;34m(\u001b[0m\u001b[0;34m\"Answer received: {0}\"\u001b[0m\u001b[0;34m.\u001b[0m\u001b[0mformat\u001b[0m\u001b[0;34m(\u001b[0m\u001b[0manswer\u001b[0m\u001b[0;34m)\u001b[0m\u001b[0;34m)\u001b[0m\u001b[0;34m\u001b[0m\u001b[0m\n\u001b[1;32m   1030\u001b[0m             \u001b[0;32mif\u001b[0m \u001b[0manswer\u001b[0m\u001b[0;34m.\u001b[0m\u001b[0mstartswith\u001b[0m\u001b[0;34m(\u001b[0m\u001b[0mproto\u001b[0m\u001b[0;34m.\u001b[0m\u001b[0mRETURN_MESSAGE\u001b[0m\u001b[0;34m)\u001b[0m\u001b[0;34m:\u001b[0m\u001b[0;34m\u001b[0m\u001b[0m\n",
      "\u001b[0;32m/data1/ANACONDA/Anaconda2.7/lib/python2.7/socket.pyc\u001b[0m in \u001b[0;36mreadline\u001b[0;34m(self, size)\u001b[0m\n\u001b[1;32m    449\u001b[0m             \u001b[0;32mwhile\u001b[0m \u001b[0mTrue\u001b[0m\u001b[0;34m:\u001b[0m\u001b[0;34m\u001b[0m\u001b[0m\n\u001b[1;32m    450\u001b[0m                 \u001b[0;32mtry\u001b[0m\u001b[0;34m:\u001b[0m\u001b[0;34m\u001b[0m\u001b[0m\n\u001b[0;32m--> 451\u001b[0;31m                     \u001b[0mdata\u001b[0m \u001b[0;34m=\u001b[0m \u001b[0mself\u001b[0m\u001b[0;34m.\u001b[0m\u001b[0m_sock\u001b[0m\u001b[0;34m.\u001b[0m\u001b[0mrecv\u001b[0m\u001b[0;34m(\u001b[0m\u001b[0mself\u001b[0m\u001b[0;34m.\u001b[0m\u001b[0m_rbufsize\u001b[0m\u001b[0;34m)\u001b[0m\u001b[0;34m\u001b[0m\u001b[0m\n\u001b[0m\u001b[1;32m    452\u001b[0m                 \u001b[0;32mexcept\u001b[0m \u001b[0merror\u001b[0m\u001b[0;34m,\u001b[0m \u001b[0me\u001b[0m\u001b[0;34m:\u001b[0m\u001b[0;34m\u001b[0m\u001b[0m\n\u001b[1;32m    453\u001b[0m                     \u001b[0;32mif\u001b[0m \u001b[0me\u001b[0m\u001b[0;34m.\u001b[0m\u001b[0margs\u001b[0m\u001b[0;34m[\u001b[0m\u001b[0;36m0\u001b[0m\u001b[0;34m]\u001b[0m \u001b[0;34m==\u001b[0m \u001b[0mEINTR\u001b[0m\u001b[0;34m:\u001b[0m\u001b[0;34m\u001b[0m\u001b[0m\n",
      "\u001b[0;31mKeyboardInterrupt\u001b[0m: "
     ]
    }
   ],
   "source": [
    "import zipfile\n",
    "import io\n",
    "\n",
    "def zip_extract(x):\n",
    "    in_memory_data = io.BytesIO(x[1])\n",
    "    file_obj = zipfile.ZipFile(in_memory_data, \"r\")\n",
    "    files = [i for i in file_obj.namelist()]\n",
    "    return dict(zip(files, [file_obj.open(file).read() for file in files]))\n",
    "\n",
    "\n",
    "zips = sc.binaryFiles(\"hdfs:/hpoc/edl/data/common/operations/callminer_data/call_miner/Vail_CDR_Transcripts_Nov17.zip\")\n",
    "files_data = zips.map(zip_extract).collect()"
   ]
  },
  {
   "cell_type": "code",
   "execution_count": null,
   "metadata": {
    "collapsed": true
   },
   "outputs": [],
   "source": []
  }
 ],
 "metadata": {
  "kernelspec": {
   "display_name": "Python 2",
   "language": "python",
   "name": "python2"
  },
  "language_info": {
   "codemirror_mode": {
    "name": "ipython",
    "version": 2
   },
   "file_extension": ".py",
   "mimetype": "text/x-python",
   "name": "python",
   "nbconvert_exporter": "python",
   "pygments_lexer": "ipython2",
   "version": "2.7.13"
  }
 },
 "nbformat": 4,
 "nbformat_minor": 2
}
